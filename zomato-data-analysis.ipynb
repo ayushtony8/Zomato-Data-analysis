{
 "cells": [
  {
   "cell_type": "code",
   "execution_count": 1,
   "id": "6af503a0",
   "metadata": {
    "_cell_guid": "b1076dfc-b9ad-4769-8c92-a6c4dae69d19",
    "_uuid": "8f2839f25d086af736a60e9eeb907d3b93b6e0e5",
    "execution": {
     "iopub.execute_input": "2024-09-04T07:55:33.085197Z",
     "iopub.status.busy": "2024-09-04T07:55:33.084752Z",
     "iopub.status.idle": "2024-09-04T07:55:33.927483Z",
     "shell.execute_reply": "2024-09-04T07:55:33.926218Z"
    },
    "papermill": {
     "duration": 0.851558,
     "end_time": "2024-09-04T07:55:33.930136",
     "exception": false,
     "start_time": "2024-09-04T07:55:33.078578",
     "status": "completed"
    },
    "tags": []
   },
   "outputs": [
    {
     "name": "stdout",
     "output_type": "stream",
     "text": [
      "/kaggle/input/zomato-1/Zomato data .csv\n"
     ]
    }
   ],
   "source": [
    "# This Python 3 environment comes with many helpful analytics libraries installed\n",
    "# It is defined by the kaggle/python Docker image: https://github.com/kaggle/docker-python\n",
    "# For example, here's several helpful packages to load\n",
    "\n",
    "import numpy as np # linear algebra\n",
    "import pandas as pd # data processing, CSV file I/O (e.g. pd.read_csv)\n",
    "\n",
    "# Input data files are available in the read-only \"../input/\" directory\n",
    "# For example, running this (by clicking run or pressing Shift+Enter) will list all files under the input directory\n",
    "\n",
    "import os\n",
    "for dirname, _, filenames in os.walk('/kaggle/input'):\n",
    "    for filename in filenames:\n",
    "        print(os.path.join(dirname, filename))\n",
    "\n",
    "# You can write up to 20GB to the current directory (/kaggle/working/) that gets preserved as output when you create a version using \"Save & Run All\" \n",
    "# You can also write temporary files to /kaggle/temp/, but they won't be saved outside of the current session"
   ]
  },
  {
   "cell_type": "code",
   "execution_count": 2,
   "id": "6341518e",
   "metadata": {
    "execution": {
     "iopub.execute_input": "2024-09-04T07:55:33.939856Z",
     "iopub.status.busy": "2024-09-04T07:55:33.938932Z",
     "iopub.status.idle": "2024-09-04T07:55:35.720326Z",
     "shell.execute_reply": "2024-09-04T07:55:35.719441Z"
    },
    "papermill": {
     "duration": 1.788554,
     "end_time": "2024-09-04T07:55:35.722794",
     "exception": false,
     "start_time": "2024-09-04T07:55:33.934240",
     "status": "completed"
    },
    "tags": []
   },
   "outputs": [],
   "source": [
    "import matplotlib.pyplot as plt\n",
    "import seaborn as sns "
   ]
  },
  {
   "cell_type": "code",
   "execution_count": 3,
   "id": "0700cbb9",
   "metadata": {
    "execution": {
     "iopub.execute_input": "2024-09-04T07:55:35.732575Z",
     "iopub.status.busy": "2024-09-04T07:55:35.731509Z",
     "iopub.status.idle": "2024-09-04T07:55:35.749977Z",
     "shell.execute_reply": "2024-09-04T07:55:35.749076Z"
    },
    "papermill": {
     "duration": 0.0258,
     "end_time": "2024-09-04T07:55:35.752384",
     "exception": false,
     "start_time": "2024-09-04T07:55:35.726584",
     "status": "completed"
    },
    "tags": []
   },
   "outputs": [],
   "source": [
    "df = pd.read_csv('/kaggle/input/zomato-1/Zomato data .csv')"
   ]
  },
  {
   "cell_type": "code",
   "execution_count": 4,
   "id": "c6bbc398",
   "metadata": {
    "execution": {
     "iopub.execute_input": "2024-09-04T07:55:35.761638Z",
     "iopub.status.busy": "2024-09-04T07:55:35.760686Z",
     "iopub.status.idle": "2024-09-04T07:55:35.778974Z",
     "shell.execute_reply": "2024-09-04T07:55:35.777944Z"
    },
    "papermill": {
     "duration": 0.025077,
     "end_time": "2024-09-04T07:55:35.781176",
     "exception": false,
     "start_time": "2024-09-04T07:55:35.756099",
     "status": "completed"
    },
    "tags": []
   },
   "outputs": [
    {
     "data": {
      "text/plain": [
       "name                           0\n",
       "online_order                   0\n",
       "book_table                     0\n",
       "rate                           0\n",
       "votes                          0\n",
       "approx_cost(for two people)    0\n",
       "listed_in(type)                0\n",
       "dtype: int64"
      ]
     },
     "execution_count": 4,
     "metadata": {},
     "output_type": "execute_result"
    }
   ],
   "source": [
    "df.isna().sum()"
   ]
  },
  {
   "cell_type": "code",
   "execution_count": 5,
   "id": "c1c3b821",
   "metadata": {
    "execution": {
     "iopub.execute_input": "2024-09-04T07:55:35.791184Z",
     "iopub.status.busy": "2024-09-04T07:55:35.790395Z",
     "iopub.status.idle": "2024-09-04T07:55:35.812538Z",
     "shell.execute_reply": "2024-09-04T07:55:35.811525Z"
    },
    "papermill": {
     "duration": 0.029483,
     "end_time": "2024-09-04T07:55:35.814643",
     "exception": false,
     "start_time": "2024-09-04T07:55:35.785160",
     "status": "completed"
    },
    "tags": []
   },
   "outputs": [
    {
     "data": {
      "text/html": [
       "<div>\n",
       "<style scoped>\n",
       "    .dataframe tbody tr th:only-of-type {\n",
       "        vertical-align: middle;\n",
       "    }\n",
       "\n",
       "    .dataframe tbody tr th {\n",
       "        vertical-align: top;\n",
       "    }\n",
       "\n",
       "    .dataframe thead th {\n",
       "        text-align: right;\n",
       "    }\n",
       "</style>\n",
       "<table border=\"1\" class=\"dataframe\">\n",
       "  <thead>\n",
       "    <tr style=\"text-align: right;\">\n",
       "      <th></th>\n",
       "      <th>name</th>\n",
       "      <th>online_order</th>\n",
       "      <th>book_table</th>\n",
       "      <th>rate</th>\n",
       "      <th>votes</th>\n",
       "      <th>approx_cost(for two people)</th>\n",
       "      <th>listed_in(type)</th>\n",
       "    </tr>\n",
       "  </thead>\n",
       "  <tbody>\n",
       "    <tr>\n",
       "      <th>0</th>\n",
       "      <td>Jalsa</td>\n",
       "      <td>Yes</td>\n",
       "      <td>Yes</td>\n",
       "      <td>4.1</td>\n",
       "      <td>775</td>\n",
       "      <td>800</td>\n",
       "      <td>Buffet</td>\n",
       "    </tr>\n",
       "    <tr>\n",
       "      <th>1</th>\n",
       "      <td>Spice Elephant</td>\n",
       "      <td>Yes</td>\n",
       "      <td>No</td>\n",
       "      <td>4.1</td>\n",
       "      <td>787</td>\n",
       "      <td>800</td>\n",
       "      <td>Buffet</td>\n",
       "    </tr>\n",
       "    <tr>\n",
       "      <th>2</th>\n",
       "      <td>San Churro Cafe</td>\n",
       "      <td>Yes</td>\n",
       "      <td>No</td>\n",
       "      <td>3.8</td>\n",
       "      <td>918</td>\n",
       "      <td>800</td>\n",
       "      <td>Buffet</td>\n",
       "    </tr>\n",
       "    <tr>\n",
       "      <th>3</th>\n",
       "      <td>Addhuri Udupi Bhojana</td>\n",
       "      <td>No</td>\n",
       "      <td>No</td>\n",
       "      <td>3.7</td>\n",
       "      <td>88</td>\n",
       "      <td>300</td>\n",
       "      <td>Buffet</td>\n",
       "    </tr>\n",
       "    <tr>\n",
       "      <th>4</th>\n",
       "      <td>Grand Village</td>\n",
       "      <td>No</td>\n",
       "      <td>No</td>\n",
       "      <td>3.8</td>\n",
       "      <td>166</td>\n",
       "      <td>600</td>\n",
       "      <td>Buffet</td>\n",
       "    </tr>\n",
       "  </tbody>\n",
       "</table>\n",
       "</div>"
      ],
      "text/plain": [
       "                    name online_order book_table  rate  votes  \\\n",
       "0                  Jalsa          Yes        Yes   4.1    775   \n",
       "1         Spice Elephant          Yes         No   4.1    787   \n",
       "2        San Churro Cafe          Yes         No   3.8    918   \n",
       "3  Addhuri Udupi Bhojana           No         No   3.7     88   \n",
       "4          Grand Village           No         No   3.8    166   \n",
       "\n",
       "   approx_cost(for two people) listed_in(type)  \n",
       "0                          800          Buffet  \n",
       "1                          800          Buffet  \n",
       "2                          800          Buffet  \n",
       "3                          300          Buffet  \n",
       "4                          600          Buffet  "
      ]
     },
     "execution_count": 5,
     "metadata": {},
     "output_type": "execute_result"
    }
   ],
   "source": [
    "def datahandle(value):\n",
    "    value = str(value).split('/')\n",
    "    value = value[0]\n",
    "    return float(value)\n",
    "\n",
    "df['rate'] = df['rate'].apply(datahandle)\n",
    "df.head()"
   ]
  },
  {
   "cell_type": "code",
   "execution_count": 6,
   "id": "c525c622",
   "metadata": {
    "execution": {
     "iopub.execute_input": "2024-09-04T07:55:35.824512Z",
     "iopub.status.busy": "2024-09-04T07:55:35.823675Z",
     "iopub.status.idle": "2024-09-04T07:55:36.050521Z",
     "shell.execute_reply": "2024-09-04T07:55:36.049211Z"
    },
    "papermill": {
     "duration": 0.234086,
     "end_time": "2024-09-04T07:55:36.052802",
     "exception": false,
     "start_time": "2024-09-04T07:55:35.818716",
     "status": "completed"
    },
    "tags": []
   },
   "outputs": [
    {
     "data": {
      "image/png": "[encoded data removed]",
      "text/plain": [
       "<Figure size 640x480 with 1 Axes>"
      ]
     },
     "metadata": {},
     "output_type": "display_data"
    }
   ],
   "source": [
    "#What type of restaurant do the majority of customers order from?\n",
    "\n",
    "sns.countplot(x=df['listed_in(type)'])\n",
    "plt.show()"
   ]
  },
  {
   "cell_type": "code",
   "execution_count": 7,
   "id": "7ba01edc",
   "metadata": {
    "execution": {
     "iopub.execute_input": "2024-09-04T07:55:36.063546Z",
     "iopub.status.busy": "2024-09-04T07:55:36.062753Z",
     "iopub.status.idle": "2024-09-04T07:55:36.283090Z",
     "shell.execute_reply": "2024-09-04T07:55:36.281963Z"
    },
    "papermill": {
     "duration": 0.228447,
     "end_time": "2024-09-04T07:55:36.285711",
     "exception": false,
     "start_time": "2024-09-04T07:55:36.057264",
     "status": "completed"
    },
    "tags": []
   },
   "outputs": [
    {
     "data": {
      "text/plain": [
       "Text(0.5, 1.0, 'Votes on type of restaurant')"
      ]
     },
     "execution_count": 7,
     "metadata": {},
     "output_type": "execute_result"
    },
    {
     "data": {
      "image/png": "[encoded data removed]",
      "text/plain": [
       "<Figure size 640x480 with 1 Axes>"
      ]
     },
     "metadata": {},
     "output_type": "display_data"
    }
   ],
   "source": [
    "# How many votes has each type of restaurant received from customers?\n",
    "\n",
    "gd = df.groupby('listed_in(type)')['votes'].sum()\n",
    "result = pd.DataFrame({'votes': gd})\n",
    "result\n",
    "plt.plot(result, marker='o')\n",
    "plt.title('Votes on type of restaurant')\n"
   ]
  },
  {
   "cell_type": "code",
   "execution_count": 8,
   "id": "5f70e4a0",
   "metadata": {
    "execution": {
     "iopub.execute_input": "2024-09-04T07:55:36.298275Z",
     "iopub.status.busy": "2024-09-04T07:55:36.297349Z",
     "iopub.status.idle": "2024-09-04T07:55:36.310371Z",
     "shell.execute_reply": "2024-09-04T07:55:36.309335Z"
    },
    "papermill": {
     "duration": 0.021404,
     "end_time": "2024-09-04T07:55:36.312516",
     "exception": false,
     "start_time": "2024-09-04T07:55:36.291112",
     "status": "completed"
    },
    "tags": []
   },
   "outputs": [
    {
     "data": {
      "text/html": [
       "<div>\n",
       "<style scoped>\n",
       "    .dataframe tbody tr th:only-of-type {\n",
       "        vertical-align: middle;\n",
       "    }\n",
       "\n",
       "    .dataframe tbody tr th {\n",
       "        vertical-align: top;\n",
       "    }\n",
       "\n",
       "    .dataframe thead th {\n",
       "        text-align: right;\n",
       "    }\n",
       "</style>\n",
       "<table border=\"1\" class=\"dataframe\">\n",
       "  <thead>\n",
       "    <tr style=\"text-align: right;\">\n",
       "      <th></th>\n",
       "      <th>name</th>\n",
       "      <th>online_order</th>\n",
       "      <th>book_table</th>\n",
       "      <th>rate</th>\n",
       "      <th>votes</th>\n",
       "      <th>approx_cost(for two people)</th>\n",
       "      <th>listed_in(type)</th>\n",
       "    </tr>\n",
       "  </thead>\n",
       "  <tbody>\n",
       "    <tr>\n",
       "      <th>0</th>\n",
       "      <td>Jalsa</td>\n",
       "      <td>Yes</td>\n",
       "      <td>Yes</td>\n",
       "      <td>4.1</td>\n",
       "      <td>775</td>\n",
       "      <td>800</td>\n",
       "      <td>Buffet</td>\n",
       "    </tr>\n",
       "    <tr>\n",
       "      <th>1</th>\n",
       "      <td>Spice Elephant</td>\n",
       "      <td>Yes</td>\n",
       "      <td>No</td>\n",
       "      <td>4.1</td>\n",
       "      <td>787</td>\n",
       "      <td>800</td>\n",
       "      <td>Buffet</td>\n",
       "    </tr>\n",
       "    <tr>\n",
       "      <th>2</th>\n",
       "      <td>San Churro Cafe</td>\n",
       "      <td>Yes</td>\n",
       "      <td>No</td>\n",
       "      <td>3.8</td>\n",
       "      <td>918</td>\n",
       "      <td>800</td>\n",
       "      <td>Buffet</td>\n",
       "    </tr>\n",
       "    <tr>\n",
       "      <th>3</th>\n",
       "      <td>Addhuri Udupi Bhojana</td>\n",
       "      <td>No</td>\n",
       "      <td>No</td>\n",
       "      <td>3.7</td>\n",
       "      <td>88</td>\n",
       "      <td>300</td>\n",
       "      <td>Buffet</td>\n",
       "    </tr>\n",
       "    <tr>\n",
       "      <th>4</th>\n",
       "      <td>Grand Village</td>\n",
       "      <td>No</td>\n",
       "      <td>No</td>\n",
       "      <td>3.8</td>\n",
       "      <td>166</td>\n",
       "      <td>600</td>\n",
       "      <td>Buffet</td>\n",
       "    </tr>\n",
       "  </tbody>\n",
       "</table>\n",
       "</div>"
      ],
      "text/plain": [
       "                    name online_order book_table  rate  votes  \\\n",
       "0                  Jalsa          Yes        Yes   4.1    775   \n",
       "1         Spice Elephant          Yes         No   4.1    787   \n",
       "2        San Churro Cafe          Yes         No   3.8    918   \n",
       "3  Addhuri Udupi Bhojana           No         No   3.7     88   \n",
       "4          Grand Village           No         No   3.8    166   \n",
       "\n",
       "   approx_cost(for two people) listed_in(type)  \n",
       "0                          800          Buffet  \n",
       "1                          800          Buffet  \n",
       "2                          800          Buffet  \n",
       "3                          300          Buffet  \n",
       "4                          600          Buffet  "
      ]
     },
     "execution_count": 8,
     "metadata": {},
     "output_type": "execute_result"
    }
   ],
   "source": [
    "df.head()"
   ]
  },
  {
   "cell_type": "code",
   "execution_count": 9,
   "id": "06dfb923",
   "metadata": {
    "execution": {
     "iopub.execute_input": "2024-09-04T07:55:36.324525Z",
     "iopub.status.busy": "2024-09-04T07:55:36.324120Z",
     "iopub.status.idle": "2024-09-04T07:55:36.533133Z",
     "shell.execute_reply": "2024-09-04T07:55:36.532021Z"
    },
    "papermill": {
     "duration": 0.217671,
     "end_time": "2024-09-04T07:55:36.535421",
     "exception": false,
     "start_time": "2024-09-04T07:55:36.317750",
     "status": "completed"
    },
    "tags": []
   },
   "outputs": [
    {
     "data": {
      "image/png": "[encoded data removed]",
      "text/plain": [
       "<Figure size 640x480 with 1 Axes>"
      ]
     },
     "metadata": {},
     "output_type": "display_data"
    }
   ],
   "source": [
    "#What are the ratings that the majority of restaurants have received?\n",
    "\n",
    "plt.hist(df['rate'], bins=5)\n",
    "plt.title('Majority rating')\n",
    "plt.show()"
   ]
  },
  {
   "cell_type": "code",
   "execution_count": 10,
   "id": "58346022",
   "metadata": {
    "execution": {
     "iopub.execute_input": "2024-09-04T07:55:36.548224Z",
     "iopub.status.busy": "2024-09-04T07:55:36.547816Z",
     "iopub.status.idle": "2024-09-04T07:55:36.912850Z",
     "shell.execute_reply": "2024-09-04T07:55:36.911758Z"
    },
    "papermill": {
     "duration": 0.373842,
     "end_time": "2024-09-04T07:55:36.915045",
     "exception": false,
     "start_time": "2024-09-04T07:55:36.541203",
     "status": "completed"
    },
    "tags": []
   },
   "outputs": [
    {
     "data": {
      "text/plain": [
       "Text(0.5, 1.0, 'Average spending')"
      ]
     },
     "execution_count": 10,
     "metadata": {},
     "output_type": "execute_result"
    },
    {
     "data": {
      "image/png": "[encoded data removed]",
      "text/plain": [
       "<Figure size 640x480 with 1 Axes>"
      ]
     },
     "metadata": {},
     "output_type": "display_data"
    }
   ],
   "source": [
    "#Zomato has observed that most couples order most of their food online. What is their average spending on each order?\n",
    "\n",
    "couple_spend = df['approx_cost(for two people)']\n",
    "sns.countplot(x=couple_spend)\n",
    "plt.title('Average spending')"
   ]
  },
  {
   "cell_type": "code",
   "execution_count": 11,
   "id": "42e5e192",
   "metadata": {
    "execution": {
     "iopub.execute_input": "2024-09-04T07:55:36.929295Z",
     "iopub.status.busy": "2024-09-04T07:55:36.928904Z",
     "iopub.status.idle": "2024-09-04T07:55:37.267167Z",
     "shell.execute_reply": "2024-09-04T07:55:37.266050Z"
    },
    "papermill": {
     "duration": 0.347808,
     "end_time": "2024-09-04T07:55:37.269426",
     "exception": false,
     "start_time": "2024-09-04T07:55:36.921618",
     "status": "completed"
    },
    "tags": []
   },
   "outputs": [
    {
     "data": {
      "text/plain": [
       "Text(0.5, 1.0, 'Heatmap')"
      ]
     },
     "execution_count": 11,
     "metadata": {},
     "output_type": "execute_result"
    },
    {
     "data": {
      "image/png": "[encoded data removed]",
      "text/plain": [
       "<Figure size 640x480 with 2 Axes>"
      ]
     },
     "metadata": {},
     "output_type": "display_data"
    }
   ],
   "source": [
    "#Which type of restaurant received more offline orders, so that Zomato can provide \n",
    "#those customers with some good offers?\n",
    "\n",
    "pivot_table = df.pivot_table(index='listed_in(type)',columns='online_order',aggfunc='size',fill_value=0)\n",
    "sns.heatmap(pivot_table, annot=True, cmap='YlGnBu',fmt='d')\n",
    "plt.ylabel('Types of Restautant')\n",
    "plt.title('Heatmap')"
   ]
  },
  {
   "cell_type": "code",
   "execution_count": null,
   "id": "26b17956",
   "metadata": {
    "papermill": {
     "duration": 0.006039,
     "end_time": "2024-09-04T07:55:37.282217",
     "exception": false,
     "start_time": "2024-09-04T07:55:37.276178",
     "status": "completed"
    },
    "tags": []
   },
   "outputs": [],
   "source": []
  }
 ],
 "metadata": {
  "kaggle": {
   "accelerator": "none",
   "dataSources": [
    {
     "datasetId": 5637652,
     "sourceId": 9309169,
     "sourceType": "datasetVersion"
    }
   ],
   "dockerImageVersionId": 30761,
   "isGpuEnabled": false,
   "isInternetEnabled": true,
   "language": "python",
   "sourceType": "notebook"
  },
  "kernelspec": {
   "display_name": "Python 3",
   "language": "python",
   "name": "python3"
  },
  "language_info": {
   "codemirror_mode": {
    "name": "ipython",
    "version": 3
   },
   "file_extension": ".py",
   "mimetype": "text/x-python",
   "name": "python",
   "nbconvert_exporter": "python",
   "pygments_lexer": "ipython3",
   "version": "3.10.14"
  },
  "papermill": {
   "default_parameters": {},
   "duration": 7.867252,
   "end_time": "2024-09-04T07:55:37.909292",
   "environment_variables": {},
   "exception": null,
   "input_path": "__notebook__.ipynb",
   "output_path": "__notebook__.ipynb",
   "parameters": {},
   "start_time": "2024-09-04T07:55:30.042040",
   "version": "2.6.0"
  }
 },
 "nbformat": 4,
 "nbformat_minor": 5
}
